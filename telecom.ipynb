{
  "nbformat": 4,
  "nbformat_minor": 0,
  "metadata": {
    "colab": {
      "name": "Telecom.ipynb",
      "provenance": [],
      "collapsed_sections": []
    },
    "kernelspec": {
      "name": "python3",
      "display_name": "Python 3"
    }
  },
  "cells": [
    {
      "cell_type": "code",
      "metadata": {
        "id": "9atDJN_DMteF",
        "colab_type": "code",
        "colab": {}
      },
      "source": [
        "#importing required libraries\n",
        "import pandas as pd\n",
        "import numpy as np\n",
        "import tensorflow as tf"
      ],
      "execution_count": 0,
      "outputs": []
    },
    {
      "cell_type": "code",
      "metadata": {
        "id": "IexE9VejNSmS",
        "colab_type": "code",
        "colab": {}
      },
      "source": [
        "#Reading CSV file into a pandas dataframe\n",
        "dataset=pd.read_csv('telecom.csv')"
      ],
      "execution_count": 0,
      "outputs": []
    },
    {
      "cell_type": "code",
      "metadata": {
        "id": "_xGt09n_NSfg",
        "colab_type": "code",
        "colab": {
          "base_uri": "https://localhost:8080/",
          "height": 218
        },
        "outputId": "d7ff33be-f6a9-4844-e4d7-0177b1b047bd"
      },
      "source": [
        "#Checking for missing values\n",
        "pd.isnull(dataset).any()"
      ],
      "execution_count": 82,
      "outputs": [
        {
          "output_type": "execute_result",
          "data": {
            "text/plain": [
              "Churn              False\n",
              "AccountWeeks       False\n",
              "ContractRenewal    False\n",
              "DataPlan           False\n",
              "DataUsage          False\n",
              "CustServCalls      False\n",
              "DayMins            False\n",
              "DayCalls           False\n",
              "MonthlyCharge      False\n",
              "OverageFee         False\n",
              "RoamMins           False\n",
              "dtype: bool"
            ]
          },
          "metadata": {
            "tags": []
          },
          "execution_count": 82
        }
      ]
    },
    {
      "cell_type": "code",
      "metadata": {
        "id": "cYJzPGv7NSZY",
        "colab_type": "code",
        "colab": {}
      },
      "source": [
        "#Separating independent and dependent variables\n",
        "a=dataset.iloc[:,1:]\n",
        "b=dataset.iloc[:,0]\n",
        "\n"
      ],
      "execution_count": 0,
      "outputs": []
    },
    {
      "cell_type": "code",
      "metadata": {
        "id": "vMuGxF_7M6bU",
        "colab_type": "code",
        "colab": {}
      },
      "source": [
        "#Feature scaling the independent variables\n",
        "from sklearn.preprocessing import StandardScaler\n",
        "ss=StandardScaler()\n",
        "a=ss.fit_transform(a)\n"
      ],
      "execution_count": 0,
      "outputs": []
    },
    {
      "cell_type": "code",
      "metadata": {
        "id": "liYMnLHINIeU",
        "colab_type": "code",
        "colab": {}
      },
      "source": [
        "#Splling the train and test cases\n",
        "from sklearn.model_selection import train_test_split\n",
        "a_train,a_test,b_train,b_test=train_test_split(a,b,test_size=0.15,random_state=0)"
      ],
      "execution_count": 0,
      "outputs": []
    },
    {
      "cell_type": "code",
      "metadata": {
        "id": "VClY1Oka30uP",
        "colab_type": "code",
        "colab": {}
      },
      "source": [
        "#Intializing the network and addind subsequent layers\n",
        "Network=tf.keras.models.Sequential()\n",
        "Network.add(tf.keras.layers.Dense(units=8,activation='relu'))\n",
        "Network.add(tf.keras.layers.Dense(units=5,activation='relu'))\n",
        "Network.add(tf.keras.layers.Dense(units=1,activation='sigmoid'))"
      ],
      "execution_count": 0,
      "outputs": []
    },
    {
      "cell_type": "code",
      "metadata": {
        "id": "b58WdPv_4kay",
        "colab_type": "code",
        "colab": {}
      },
      "source": [
        "#Comipiling the netork\n",
        "Network.compile(optimizer='adam',loss='binary_crossentropy',metrics=['accuracy'])"
      ],
      "execution_count": 0,
      "outputs": []
    },
    {
      "cell_type": "code",
      "metadata": {
        "id": "xzdyV8fb432p",
        "colab_type": "code",
        "colab": {
          "base_uri": "https://localhost:8080/",
          "height": 1000
        },
        "outputId": "3ccfa2a0-fffd-4bea-900b-62e8d9ccabfd"
      },
      "source": [
        "#Training the data on the train data\n",
        "Network.fit(a_train,b_train,batch_size=30,epochs=150)"
      ],
      "execution_count": 71,
      "outputs": [
        {
          "output_type": "stream",
          "text": [
            "Epoch 1/150\n",
            "95/95 [==============================] - 0s 1ms/step - loss: 0.1932 - accuracy: 0.9326\n",
            "Epoch 2/150\n",
            "95/95 [==============================] - 0s 1ms/step - loss: 0.1921 - accuracy: 0.9340\n",
            "Epoch 3/150\n",
            "95/95 [==============================] - 0s 1ms/step - loss: 0.1919 - accuracy: 0.9333\n",
            "Epoch 4/150\n",
            "95/95 [==============================] - 0s 1ms/step - loss: 0.1916 - accuracy: 0.9347\n",
            "Epoch 5/150\n",
            "95/95 [==============================] - 0s 2ms/step - loss: 0.1914 - accuracy: 0.9340\n",
            "Epoch 6/150\n",
            "95/95 [==============================] - 0s 1ms/step - loss: 0.1911 - accuracy: 0.9333\n",
            "Epoch 7/150\n",
            "95/95 [==============================] - 0s 1ms/step - loss: 0.1905 - accuracy: 0.9372\n",
            "Epoch 8/150\n",
            "95/95 [==============================] - 0s 1ms/step - loss: 0.1904 - accuracy: 0.9354\n",
            "Epoch 9/150\n",
            "95/95 [==============================] - 0s 1ms/step - loss: 0.1905 - accuracy: 0.9329\n",
            "Epoch 10/150\n",
            "95/95 [==============================] - 0s 1ms/step - loss: 0.1897 - accuracy: 0.9354\n",
            "Epoch 11/150\n",
            "95/95 [==============================] - 0s 1ms/step - loss: 0.1898 - accuracy: 0.9347\n",
            "Epoch 12/150\n",
            "95/95 [==============================] - 0s 1ms/step - loss: 0.1899 - accuracy: 0.9340\n",
            "Epoch 13/150\n",
            "95/95 [==============================] - 0s 1ms/step - loss: 0.1891 - accuracy: 0.9351\n",
            "Epoch 14/150\n",
            "95/95 [==============================] - 0s 1ms/step - loss: 0.1892 - accuracy: 0.9354\n",
            "Epoch 15/150\n",
            "95/95 [==============================] - 0s 1ms/step - loss: 0.1891 - accuracy: 0.9358\n",
            "Epoch 16/150\n",
            "95/95 [==============================] - 0s 1ms/step - loss: 0.1884 - accuracy: 0.9379\n",
            "Epoch 17/150\n",
            "95/95 [==============================] - 0s 1ms/step - loss: 0.1880 - accuracy: 0.9354\n",
            "Epoch 18/150\n",
            "95/95 [==============================] - 0s 1ms/step - loss: 0.1888 - accuracy: 0.9365\n",
            "Epoch 19/150\n",
            "95/95 [==============================] - 0s 1ms/step - loss: 0.1887 - accuracy: 0.9365\n",
            "Epoch 20/150\n",
            "95/95 [==============================] - 0s 1ms/step - loss: 0.1879 - accuracy: 0.9386\n",
            "Epoch 21/150\n",
            "95/95 [==============================] - 0s 1ms/step - loss: 0.1874 - accuracy: 0.9351\n",
            "Epoch 22/150\n",
            "95/95 [==============================] - 0s 1ms/step - loss: 0.1886 - accuracy: 0.9365\n",
            "Epoch 23/150\n",
            "95/95 [==============================] - 0s 1ms/step - loss: 0.1878 - accuracy: 0.9351\n",
            "Epoch 24/150\n",
            "95/95 [==============================] - 0s 2ms/step - loss: 0.1881 - accuracy: 0.9382\n",
            "Epoch 25/150\n",
            "95/95 [==============================] - 0s 1ms/step - loss: 0.1872 - accuracy: 0.9382\n",
            "Epoch 26/150\n",
            "95/95 [==============================] - 0s 1ms/step - loss: 0.1876 - accuracy: 0.9379\n",
            "Epoch 27/150\n",
            "95/95 [==============================] - 0s 1ms/step - loss: 0.1876 - accuracy: 0.9379\n",
            "Epoch 28/150\n",
            "95/95 [==============================] - 0s 1ms/step - loss: 0.1868 - accuracy: 0.9372\n",
            "Epoch 29/150\n",
            "95/95 [==============================] - 0s 1ms/step - loss: 0.1865 - accuracy: 0.9382\n",
            "Epoch 30/150\n",
            "95/95 [==============================] - 0s 1ms/step - loss: 0.1867 - accuracy: 0.9386\n",
            "Epoch 31/150\n",
            "95/95 [==============================] - 0s 1ms/step - loss: 0.1866 - accuracy: 0.9389\n",
            "Epoch 32/150\n",
            "95/95 [==============================] - 0s 1ms/step - loss: 0.1866 - accuracy: 0.9386\n",
            "Epoch 33/150\n",
            "95/95 [==============================] - 0s 1ms/step - loss: 0.1866 - accuracy: 0.9386\n",
            "Epoch 34/150\n",
            "95/95 [==============================] - 0s 1ms/step - loss: 0.1862 - accuracy: 0.9372\n",
            "Epoch 35/150\n",
            "95/95 [==============================] - 0s 1ms/step - loss: 0.1861 - accuracy: 0.9386\n",
            "Epoch 36/150\n",
            "95/95 [==============================] - 0s 1ms/step - loss: 0.1858 - accuracy: 0.9368\n",
            "Epoch 37/150\n",
            "95/95 [==============================] - 0s 1ms/step - loss: 0.1857 - accuracy: 0.9379\n",
            "Epoch 38/150\n",
            "95/95 [==============================] - 0s 1ms/step - loss: 0.1855 - accuracy: 0.9386\n",
            "Epoch 39/150\n",
            "95/95 [==============================] - 0s 1ms/step - loss: 0.1857 - accuracy: 0.9389\n",
            "Epoch 40/150\n",
            "95/95 [==============================] - 0s 1ms/step - loss: 0.1852 - accuracy: 0.9396\n",
            "Epoch 41/150\n",
            "95/95 [==============================] - 0s 1ms/step - loss: 0.1853 - accuracy: 0.9386\n",
            "Epoch 42/150\n",
            "95/95 [==============================] - 0s 1ms/step - loss: 0.1854 - accuracy: 0.9393\n",
            "Epoch 43/150\n",
            "95/95 [==============================] - 0s 1ms/step - loss: 0.1849 - accuracy: 0.9396\n",
            "Epoch 44/150\n",
            "95/95 [==============================] - 0s 1ms/step - loss: 0.1846 - accuracy: 0.9382\n",
            "Epoch 45/150\n",
            "95/95 [==============================] - 0s 1ms/step - loss: 0.1853 - accuracy: 0.9379\n",
            "Epoch 46/150\n",
            "95/95 [==============================] - 0s 1ms/step - loss: 0.1842 - accuracy: 0.9389\n",
            "Epoch 47/150\n",
            "95/95 [==============================] - 0s 1ms/step - loss: 0.1839 - accuracy: 0.9400\n",
            "Epoch 48/150\n",
            "95/95 [==============================] - 0s 1ms/step - loss: 0.1842 - accuracy: 0.9407\n",
            "Epoch 49/150\n",
            "95/95 [==============================] - 0s 1ms/step - loss: 0.1841 - accuracy: 0.9407\n",
            "Epoch 50/150\n",
            "95/95 [==============================] - 0s 1ms/step - loss: 0.1843 - accuracy: 0.9386\n",
            "Epoch 51/150\n",
            "95/95 [==============================] - 0s 1ms/step - loss: 0.1838 - accuracy: 0.9400\n",
            "Epoch 52/150\n",
            "95/95 [==============================] - 0s 1ms/step - loss: 0.1841 - accuracy: 0.9393\n",
            "Epoch 53/150\n",
            "95/95 [==============================] - 0s 1ms/step - loss: 0.1838 - accuracy: 0.9400\n",
            "Epoch 54/150\n",
            "95/95 [==============================] - 0s 1ms/step - loss: 0.1837 - accuracy: 0.9407\n",
            "Epoch 55/150\n",
            "95/95 [==============================] - 0s 1ms/step - loss: 0.1836 - accuracy: 0.9418\n",
            "Epoch 56/150\n",
            "95/95 [==============================] - 0s 1ms/step - loss: 0.1835 - accuracy: 0.9389\n",
            "Epoch 57/150\n",
            "95/95 [==============================] - 0s 1ms/step - loss: 0.1833 - accuracy: 0.9407\n",
            "Epoch 58/150\n",
            "95/95 [==============================] - 0s 1ms/step - loss: 0.1828 - accuracy: 0.9400\n",
            "Epoch 59/150\n",
            "95/95 [==============================] - 0s 1ms/step - loss: 0.1832 - accuracy: 0.9400\n",
            "Epoch 60/150\n",
            "95/95 [==============================] - 0s 1ms/step - loss: 0.1829 - accuracy: 0.9407\n",
            "Epoch 61/150\n",
            "95/95 [==============================] - 0s 1ms/step - loss: 0.1835 - accuracy: 0.9379\n",
            "Epoch 62/150\n",
            "95/95 [==============================] - 0s 1ms/step - loss: 0.1821 - accuracy: 0.9393\n",
            "Epoch 63/150\n",
            "95/95 [==============================] - 0s 1ms/step - loss: 0.1824 - accuracy: 0.9393\n",
            "Epoch 64/150\n",
            "95/95 [==============================] - 0s 1ms/step - loss: 0.1830 - accuracy: 0.9407\n",
            "Epoch 65/150\n",
            "95/95 [==============================] - 0s 1ms/step - loss: 0.1821 - accuracy: 0.9421\n",
            "Epoch 66/150\n",
            "95/95 [==============================] - 0s 1ms/step - loss: 0.1823 - accuracy: 0.9411\n",
            "Epoch 67/150\n",
            "95/95 [==============================] - 0s 1ms/step - loss: 0.1820 - accuracy: 0.9418\n",
            "Epoch 68/150\n",
            "95/95 [==============================] - 0s 2ms/step - loss: 0.1819 - accuracy: 0.9411\n",
            "Epoch 69/150\n",
            "95/95 [==============================] - 0s 1ms/step - loss: 0.1816 - accuracy: 0.9414\n",
            "Epoch 70/150\n",
            "95/95 [==============================] - 0s 1ms/step - loss: 0.1823 - accuracy: 0.9414\n",
            "Epoch 71/150\n",
            "95/95 [==============================] - 0s 1ms/step - loss: 0.1816 - accuracy: 0.9414\n",
            "Epoch 72/150\n",
            "95/95 [==============================] - 0s 2ms/step - loss: 0.1817 - accuracy: 0.9411\n",
            "Epoch 73/150\n",
            "95/95 [==============================] - 0s 2ms/step - loss: 0.1812 - accuracy: 0.9414\n",
            "Epoch 74/150\n",
            "95/95 [==============================] - 0s 1ms/step - loss: 0.1813 - accuracy: 0.9418\n",
            "Epoch 75/150\n",
            "95/95 [==============================] - 0s 1ms/step - loss: 0.1812 - accuracy: 0.9411\n",
            "Epoch 76/150\n",
            "95/95 [==============================] - 0s 1ms/step - loss: 0.1809 - accuracy: 0.9418\n",
            "Epoch 77/150\n",
            "95/95 [==============================] - 0s 1ms/step - loss: 0.1809 - accuracy: 0.9418\n",
            "Epoch 78/150\n",
            "95/95 [==============================] - 0s 1ms/step - loss: 0.1807 - accuracy: 0.9396\n",
            "Epoch 79/150\n",
            "95/95 [==============================] - 0s 1ms/step - loss: 0.1807 - accuracy: 0.9403\n",
            "Epoch 80/150\n",
            "95/95 [==============================] - 0s 1ms/step - loss: 0.1805 - accuracy: 0.9414\n",
            "Epoch 81/150\n",
            "95/95 [==============================] - 0s 1ms/step - loss: 0.1812 - accuracy: 0.9428\n",
            "Epoch 82/150\n",
            "95/95 [==============================] - 0s 1ms/step - loss: 0.1806 - accuracy: 0.9407\n",
            "Epoch 83/150\n",
            "95/95 [==============================] - 0s 1ms/step - loss: 0.1803 - accuracy: 0.9425\n",
            "Epoch 84/150\n",
            "95/95 [==============================] - 0s 1ms/step - loss: 0.1799 - accuracy: 0.9428\n",
            "Epoch 85/150\n",
            "95/95 [==============================] - 0s 1ms/step - loss: 0.1803 - accuracy: 0.9407\n",
            "Epoch 86/150\n",
            "95/95 [==============================] - 0s 1ms/step - loss: 0.1803 - accuracy: 0.9428\n",
            "Epoch 87/150\n",
            "95/95 [==============================] - 0s 1ms/step - loss: 0.1799 - accuracy: 0.9418\n",
            "Epoch 88/150\n",
            "95/95 [==============================] - 0s 1ms/step - loss: 0.1800 - accuracy: 0.9418\n",
            "Epoch 89/150\n",
            "95/95 [==============================] - 0s 1ms/step - loss: 0.1798 - accuracy: 0.9418\n",
            "Epoch 90/150\n",
            "95/95 [==============================] - 0s 2ms/step - loss: 0.1799 - accuracy: 0.9421\n",
            "Epoch 91/150\n",
            "95/95 [==============================] - 0s 1ms/step - loss: 0.1803 - accuracy: 0.9425\n",
            "Epoch 92/150\n",
            "95/95 [==============================] - 0s 1ms/step - loss: 0.1799 - accuracy: 0.9396\n",
            "Epoch 93/150\n",
            "95/95 [==============================] - 0s 1ms/step - loss: 0.1793 - accuracy: 0.9421\n",
            "Epoch 94/150\n",
            "95/95 [==============================] - 0s 1ms/step - loss: 0.1799 - accuracy: 0.9411\n",
            "Epoch 95/150\n",
            "95/95 [==============================] - 0s 1ms/step - loss: 0.1791 - accuracy: 0.9421\n",
            "Epoch 96/150\n",
            "95/95 [==============================] - 0s 1ms/step - loss: 0.1797 - accuracy: 0.9414\n",
            "Epoch 97/150\n",
            "95/95 [==============================] - 0s 1ms/step - loss: 0.1795 - accuracy: 0.9421\n",
            "Epoch 98/150\n",
            "95/95 [==============================] - 0s 1ms/step - loss: 0.1793 - accuracy: 0.9425\n",
            "Epoch 99/150\n",
            "95/95 [==============================] - 0s 1ms/step - loss: 0.1802 - accuracy: 0.9432\n",
            "Epoch 100/150\n",
            "95/95 [==============================] - 0s 1ms/step - loss: 0.1793 - accuracy: 0.9411\n",
            "Epoch 101/150\n",
            "95/95 [==============================] - 0s 1ms/step - loss: 0.1798 - accuracy: 0.9403\n",
            "Epoch 102/150\n",
            "95/95 [==============================] - 0s 1ms/step - loss: 0.1791 - accuracy: 0.9418\n",
            "Epoch 103/150\n",
            "95/95 [==============================] - 0s 1ms/step - loss: 0.1792 - accuracy: 0.9414\n",
            "Epoch 104/150\n",
            "95/95 [==============================] - 0s 1ms/step - loss: 0.1794 - accuracy: 0.9411\n",
            "Epoch 105/150\n",
            "95/95 [==============================] - 0s 1ms/step - loss: 0.1794 - accuracy: 0.9411\n",
            "Epoch 106/150\n",
            "95/95 [==============================] - 0s 1ms/step - loss: 0.1790 - accuracy: 0.9421\n",
            "Epoch 107/150\n",
            "95/95 [==============================] - 0s 1ms/step - loss: 0.1791 - accuracy: 0.9421\n",
            "Epoch 108/150\n",
            "95/95 [==============================] - 0s 2ms/step - loss: 0.1788 - accuracy: 0.9414\n",
            "Epoch 109/150\n",
            "95/95 [==============================] - 0s 1ms/step - loss: 0.1787 - accuracy: 0.9439\n",
            "Epoch 110/150\n",
            "95/95 [==============================] - 0s 1ms/step - loss: 0.1788 - accuracy: 0.9435\n",
            "Epoch 111/150\n",
            "95/95 [==============================] - 0s 1ms/step - loss: 0.1789 - accuracy: 0.9418\n",
            "Epoch 112/150\n",
            "95/95 [==============================] - 0s 1ms/step - loss: 0.1789 - accuracy: 0.9418\n",
            "Epoch 113/150\n",
            "95/95 [==============================] - 0s 1ms/step - loss: 0.1786 - accuracy: 0.9428\n",
            "Epoch 114/150\n",
            "95/95 [==============================] - 0s 1ms/step - loss: 0.1779 - accuracy: 0.9439\n",
            "Epoch 115/150\n",
            "95/95 [==============================] - 0s 1ms/step - loss: 0.1788 - accuracy: 0.9425\n",
            "Epoch 116/150\n",
            "95/95 [==============================] - 0s 1ms/step - loss: 0.1788 - accuracy: 0.9432\n",
            "Epoch 117/150\n",
            "95/95 [==============================] - 0s 1ms/step - loss: 0.1783 - accuracy: 0.9425\n",
            "Epoch 118/150\n",
            "95/95 [==============================] - 0s 1ms/step - loss: 0.1785 - accuracy: 0.9425\n",
            "Epoch 119/150\n",
            "95/95 [==============================] - 0s 1ms/step - loss: 0.1788 - accuracy: 0.9428\n",
            "Epoch 120/150\n",
            "95/95 [==============================] - 0s 1ms/step - loss: 0.1784 - accuracy: 0.9421\n",
            "Epoch 121/150\n",
            "95/95 [==============================] - 0s 1ms/step - loss: 0.1785 - accuracy: 0.9432\n",
            "Epoch 122/150\n",
            "95/95 [==============================] - 0s 1ms/step - loss: 0.1778 - accuracy: 0.9425\n",
            "Epoch 123/150\n",
            "95/95 [==============================] - 0s 1ms/step - loss: 0.1788 - accuracy: 0.9428\n",
            "Epoch 124/150\n",
            "95/95 [==============================] - 0s 1ms/step - loss: 0.1786 - accuracy: 0.9425\n",
            "Epoch 125/150\n",
            "95/95 [==============================] - 0s 1ms/step - loss: 0.1782 - accuracy: 0.9442\n",
            "Epoch 126/150\n",
            "95/95 [==============================] - 0s 1ms/step - loss: 0.1781 - accuracy: 0.9439\n",
            "Epoch 127/150\n",
            "95/95 [==============================] - 0s 1ms/step - loss: 0.1780 - accuracy: 0.9421\n",
            "Epoch 128/150\n",
            "95/95 [==============================] - 0s 1ms/step - loss: 0.1783 - accuracy: 0.9428\n",
            "Epoch 129/150\n",
            "95/95 [==============================] - 0s 1ms/step - loss: 0.1778 - accuracy: 0.9432\n",
            "Epoch 130/150\n",
            "95/95 [==============================] - 0s 1ms/step - loss: 0.1780 - accuracy: 0.9421\n",
            "Epoch 131/150\n",
            "95/95 [==============================] - 0s 2ms/step - loss: 0.1779 - accuracy: 0.9428\n",
            "Epoch 132/150\n",
            "95/95 [==============================] - 0s 1ms/step - loss: 0.1778 - accuracy: 0.9435\n",
            "Epoch 133/150\n",
            "95/95 [==============================] - 0s 1ms/step - loss: 0.1782 - accuracy: 0.9418\n",
            "Epoch 134/150\n",
            "95/95 [==============================] - 0s 1ms/step - loss: 0.1780 - accuracy: 0.9400\n",
            "Epoch 135/150\n",
            "95/95 [==============================] - 0s 1ms/step - loss: 0.1780 - accuracy: 0.9439\n",
            "Epoch 136/150\n",
            "95/95 [==============================] - 0s 1ms/step - loss: 0.1784 - accuracy: 0.9411\n",
            "Epoch 137/150\n",
            "95/95 [==============================] - 0s 1ms/step - loss: 0.1778 - accuracy: 0.9428\n",
            "Epoch 138/150\n",
            "95/95 [==============================] - 0s 1ms/step - loss: 0.1773 - accuracy: 0.9428\n",
            "Epoch 139/150\n",
            "95/95 [==============================] - 0s 1ms/step - loss: 0.1776 - accuracy: 0.9421\n",
            "Epoch 140/150\n",
            "95/95 [==============================] - 0s 1ms/step - loss: 0.1775 - accuracy: 0.9446\n",
            "Epoch 141/150\n",
            "95/95 [==============================] - 0s 1ms/step - loss: 0.1774 - accuracy: 0.9439\n",
            "Epoch 142/150\n",
            "95/95 [==============================] - 0s 1ms/step - loss: 0.1778 - accuracy: 0.9442\n",
            "Epoch 143/150\n",
            "95/95 [==============================] - 0s 2ms/step - loss: 0.1775 - accuracy: 0.9425\n",
            "Epoch 144/150\n",
            "95/95 [==============================] - 0s 1ms/step - loss: 0.1774 - accuracy: 0.9435\n",
            "Epoch 145/150\n",
            "95/95 [==============================] - 0s 1ms/step - loss: 0.1774 - accuracy: 0.9425\n",
            "Epoch 146/150\n",
            "95/95 [==============================] - 0s 1ms/step - loss: 0.1771 - accuracy: 0.9439\n",
            "Epoch 147/150\n",
            "95/95 [==============================] - 0s 1ms/step - loss: 0.1770 - accuracy: 0.9439\n",
            "Epoch 148/150\n",
            "95/95 [==============================] - 0s 1ms/step - loss: 0.1774 - accuracy: 0.9432\n",
            "Epoch 149/150\n",
            "95/95 [==============================] - 0s 1ms/step - loss: 0.1772 - accuracy: 0.9435\n",
            "Epoch 150/150\n",
            "95/95 [==============================] - 0s 2ms/step - loss: 0.1779 - accuracy: 0.9425\n"
          ],
          "name": "stdout"
        },
        {
          "output_type": "execute_result",
          "data": {
            "text/plain": [
              "<tensorflow.python.keras.callbacks.History at 0x7fb0dbb68588>"
            ]
          },
          "metadata": {
            "tags": []
          },
          "execution_count": 71
        }
      ]
    },
    {
      "cell_type": "code",
      "metadata": {
        "id": "fZsYL8vo5jec",
        "colab_type": "code",
        "colab": {
          "base_uri": "https://localhost:8080/",
          "height": 34
        },
        "outputId": "d739f344-1901-4fcf-f521-31809430ca9d"
      },
      "source": [
        "#Evaluating the model using different tests\n",
        "b_pred=Network.predict(a_test)\n",
        "b_pred=b_pred>0.5\n",
        "from sklearn.metrics import accuracy_score\n",
        "accuracy_score(b_test,b_pred)"
      ],
      "execution_count": 72,
      "outputs": [
        {
          "output_type": "execute_result",
          "data": {
            "text/plain": [
              "0.938"
            ]
          },
          "metadata": {
            "tags": []
          },
          "execution_count": 72
        }
      ]
    },
    {
      "cell_type": "code",
      "metadata": {
        "id": "UxoLUg3R7914",
        "colab_type": "code",
        "colab": {
          "base_uri": "https://localhost:8080/",
          "height": 50
        },
        "outputId": "7fda479e-99e2-4898-a99c-042e426eca78"
      },
      "source": [
        "from sklearn.metrics import f1_score,confusion_matrix\n",
        "cm=confusion_matrix(b_test,b_pred)\n",
        "print(cm)"
      ],
      "execution_count": 79,
      "outputs": [
        {
          "output_type": "execute_result",
          "data": {
            "text/plain": [
              "array([[423,   9],\n",
              "       [ 22,  46]])"
            ]
          },
          "metadata": {
            "tags": []
          },
          "execution_count": 79
        }
      ]
    },
    {
      "cell_type": "code",
      "metadata": {
        "id": "CJ4pKyfM80_J",
        "colab_type": "code",
        "colab": {
          "base_uri": "https://localhost:8080/",
          "height": 34
        },
        "outputId": "66e9c5dd-417f-4a3f-c95d-283207e0affb"
      },
      "source": [
        "f1_score(b_test,b_pred)"
      ],
      "execution_count": 81,
      "outputs": [
        {
          "output_type": "execute_result",
          "data": {
            "text/plain": [
              "0.7479674796747968"
            ]
          },
          "metadata": {
            "tags": []
          },
          "execution_count": 81
        }
      ]
    }
  ]
}
